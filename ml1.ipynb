{
  "nbformat": 4,
  "nbformat_minor": 0,
  "metadata": {
    "colab": {
      "name": "Copy of ml1.ipynb",
      "provenance": [],
      "authorship_tag": "ABX9TyM2foSaPJPw3QoQ+KSuzC1A",
      "include_colab_link": true
    },
    "kernelspec": {
      "name": "python3",
      "display_name": "Python 3"
    },
    "language_info": {
      "name": "python"
    }
  },
  "cells": [
    {
      "cell_type": "markdown",
      "metadata": {
        "id": "view-in-github",
        "colab_type": "text"
      },
      "source": [
        "<a href=\"https://colab.research.google.com/github/bhavesh-sharma5120/IPL-Dataset-Player-price-prediction/blob/master/ml1.ipynb\" target=\"_parent\"><img src=\"https://colab.research.google.com/assets/colab-badge.svg\" alt=\"Open In Colab\"/></a>"
      ]
    },
    {
      "cell_type": "code",
      "metadata": {
        "id": "5-c_ogEhMnxk"
      },
      "source": [
        "import pandas as pd\n",
        "ipl_auction_df = pd.read_csv('https://github.com/Foridur3210/IPL-Dataset-Player-price-prediction/blob/master/IPL%20IMB381IPL2013.csv')\n",
        "\n",
        "for p in ipl_auction_df:\n",
        "  print (p)"
      ],
      "execution_count": null,
      "outputs": []
    }
  ]
}